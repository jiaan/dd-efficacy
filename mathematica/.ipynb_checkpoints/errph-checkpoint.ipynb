{
 "cells": [
  {
   "cell_type": "code",
   "execution_count": 17,
   "metadata": {},
   "outputs": [],
   "source": [
    "import numpy as np\n",
    "from numpy import array, sin, cos, exp, pi, kron, tensordot, conj, trace, sqrt\n",
    "from numpy.linalg import eigvals, svd\n",
    "from scipy.linalg import sqrtm, expm, logm, qr\n",
    "import matplotlib.pyplot as plt\n",
    "\n",
    "rng = np.random.default_rng()\n",
    "\n",
    "sigma = [si, sx, sy, sz] = array([\n",
    "    [[1, 0], [0, 1]],\n",
    "    [[0, 1], [1, 0]],\n",
    "    [[0, -1j], [1j, 0]],\n",
    "    [[1, 0], [0, -1]]\n",
    "])\n",
    "\n",
    "def norm(a): return np.linalg.norm(a,2)"
   ]
  },
  {
   "cell_type": "code",
   "execution_count": 28,
   "metadata": {},
   "outputs": [],
   "source": [
    "def randomComplexMat(n = 2): \n",
    "    return rng.standard_normal((n,n)) + 1j* rng.standard_normal((n,n))\n",
    "\n",
    "def randomUnitary(n = 2):\n",
    "    q, r = qr(randomComplexMat(n))\n",
    "    return q\n",
    "\n",
    "def randomHermitian(n = 2):\n",
    "    a = randomComplexMat(n)\n",
    "    return a.conj().T + a \n",
    "\n",
    "def randomOmega(a,b,n=2):\n",
    "    B0 = randomHermitian(n)\n",
    "    B0 = B0 - np.trace(B0) * np.identity(n)/n\n",
    "    W = np.sum([ kron(sigma[i], randomHermitian(n) ) for i in range(1,4) ], 0) \n",
    "    return (a/norm(B0)) * kron(si,B0) + b/norm(W) * W\n",
    "\n",
    "def randomUnitVec():\n",
    "    phi, z = rng.uniform(0, 2*pi), rng.uniform(-1,1)\n",
    "    return array([sqrt(1-z**2)*cos(phi), sqrt(1-z**2)*sin(phi), z])\n",
    "\n",
    "def randomUniRot(theta):\n",
    "    phi, z = rng.uniform(0, 2*pi), rng.uniform(-1,1)\n",
    "    x, y = sqrt(1-z**2)*cos(phi), sqrt(1-z**2)*sin(phi)\n",
    "    c, s = cos(theta), sin(theta)\n",
    "    return array([[ c - 1j*z*s, (-1j*x-y)*s ], [ (-1j*x+y)*s, c + 1j*z*s] ])\n",
    "    "
   ]
  },
  {
   "cell_type": "code",
   "execution_count": 10,
   "metadata": {},
   "outputs": [],
   "source": [
    "def trace_s(a): return np.trace(a.reshape(2,len(a)//2,2,len(a)//2),axis1=0,axis2=2)\n",
    "def trace_b(a): return np.trace(a.reshape(2,len(a)//2,2,len(a)//2),axis1=1,axis2=3)\n",
    "def proj0(W): return kron(si,trace_s(W))/2\n",
    "def tcpnorm(W): return norm(trace_s(W)/2 ), norm( W- proj0(W) )\n",
    "def errph(W): return norm( W- proj0(W) )"
   ]
  },
  {
   "cell_type": "code",
   "execution_count": 16,
   "metadata": {},
   "outputs": [
    {
     "data": {
      "text/plain": [
       "((0.10000000000000003, 0.09999999999999999),\n",
       " (0.10000000000000002, 0.09999999999999996),\n",
       " (0.05438214708011995, 0.1285953345000679))"
      ]
     },
     "execution_count": 16,
     "metadata": {},
     "output_type": "execute_result"
    }
   ],
   "source": [
    "W = randomOmega(0.1,0.1,4)\n",
    "U1 = kron(randomUnitary(2),randomUnitary(4))\n",
    "U2 = randomUnitary(8)\n",
    "tcpnorm(W), tcpnorm(U1@W@U1.conj().T), tcpnorm(U2@W@U2.conj().T)"
   ]
  },
  {
   "cell_type": "code",
   "execution_count": 31,
   "metadata": {},
   "outputs": [],
   "source": [
    "def PDD(U): \n",
    "    Ib = np.identity( len(U)//2, complex)\n",
    "    return -1*kron(sz,Ib)@U@kron(sx,Ib)@U@kron(sz,Ib)@U@kron(sx,Ib)@U\n",
    "\n",
    "def PDDMap(W): return 1j*logm(PDD(expm(-1j*W)))"
   ]
  },
  {
   "cell_type": "code",
   "execution_count": 32,
   "metadata": {},
   "outputs": [
    {
     "data": {
      "text/plain": [
       "0.021315466682277955"
      ]
     },
     "execution_count": 32,
     "metadata": {},
     "output_type": "execute_result"
    }
   ],
   "source": [
    "W = randomOmega(0.1,0.1)\n",
    "\n",
    "errph(PDDMap(W))"
   ]
  },
  {
   "cell_type": "code",
   "execution_count": 22,
   "metadata": {},
   "outputs": [
    {
     "data": {
      "text/plain": [
       "array([[1.+0.j, 0.+0.j, 0.+0.j, 0.+0.j],\n",
       "       [0.+0.j, 1.+0.j, 0.+0.j, 0.+0.j],\n",
       "       [0.+0.j, 0.+0.j, 1.+0.j, 0.+0.j],\n",
       "       [0.+0.j, 0.+0.j, 0.+0.j, 1.+0.j]])"
      ]
     },
     "execution_count": 22,
     "metadata": {},
     "output_type": "execute_result"
    }
   ],
   "source": [
    "np.identity(len(W)//2,complex)"
   ]
  },
  {
   "cell_type": "code",
   "execution_count": 27,
   "metadata": {},
   "outputs": [
    {
     "data": {
      "text/plain": [
       "(1, 2)"
      ]
     },
     "execution_count": 27,
     "metadata": {},
     "output_type": "execute_result"
    }
   ],
   "source": []
  },
  {
   "cell_type": "code",
   "execution_count": null,
   "metadata": {},
   "outputs": [],
   "source": []
  }
 ],
 "metadata": {
  "kernelspec": {
   "display_name": "Python 3",
   "language": "python",
   "name": "python3"
  },
  "language_info": {
   "codemirror_mode": {
    "name": "ipython",
    "version": 3
   },
   "file_extension": ".py",
   "mimetype": "text/x-python",
   "name": "python",
   "nbconvert_exporter": "python",
   "pygments_lexer": "ipython3",
   "version": "3.8.5"
  }
 },
 "nbformat": 4,
 "nbformat_minor": 2
}
